{
  "cells": [
    {
      "cell_type": "markdown",
      "metadata": {
        "id": "tjr-psq8qhpc"
      },
      "source": [
        "-- Deep Mehta\n",
        "\n",
        "**Outlier Detection**\n",
        "\n",
        "---\n",
        "\n",
        "\n",
        "\n",
        "\n",
        "\n",
        "Steps Followed\n",
        "\n",
        "- Visualized the two-dimensional data from this dataset using a scatter plot. Describe what you see in a few words\n",
        "\n",
        "- Used the Local Outlier Factor algorithm from the scikit-learn library to detect anomalies in the data, using the default nearest neighbors parameter setting of 20.\n",
        "\n",
        "- Ploted the normal and detected outlier points in blue and red respectively.\n",
        "\n",
        "- Repeated the above using using the a nearest neighbors parameter setting of 2 instead of 20.\n",
        "\n",
        "- Stated your observations.\n",
        "\n"
      ]
    },
    {
      "cell_type": "markdown",
      "metadata": {
        "id": "Dnjt-zZjqhpc"
      },
      "source": [
        "### Solution"
      ]
    },
    {
      "cell_type": "code",
      "execution_count": null,
      "metadata": {
        "id": "7kfQppqOqhpc",
        "colab": {
          "base_uri": "https://localhost:8080/",
          "height": 206
        },
        "outputId": "da095e50-4527-4aea-ea66-82a4ea5dbf81"
      },
      "outputs": [
        {
          "output_type": "execute_result",
          "data": {
            "text/plain": [
              "          X         Y\n",
              "0 -1.334287 -8.636103\n",
              "1 -0.190812 -9.828913\n",
              "2 -0.914283 -9.194076\n",
              "3 -1.123634  3.766166\n",
              "4 -2.040565  3.205089"
            ],
            "text/html": [
              "\n",
              "  <div id=\"df-b17eecbc-5ad6-40ec-8459-1e5fcd53a5d3\">\n",
              "    <div class=\"colab-df-container\">\n",
              "      <div>\n",
              "<style scoped>\n",
              "    .dataframe tbody tr th:only-of-type {\n",
              "        vertical-align: middle;\n",
              "    }\n",
              "\n",
              "    .dataframe tbody tr th {\n",
              "        vertical-align: top;\n",
              "    }\n",
              "\n",
              "    .dataframe thead th {\n",
              "        text-align: right;\n",
              "    }\n",
              "</style>\n",
              "<table border=\"1\" class=\"dataframe\">\n",
              "  <thead>\n",
              "    <tr style=\"text-align: right;\">\n",
              "      <th></th>\n",
              "      <th>X</th>\n",
              "      <th>Y</th>\n",
              "    </tr>\n",
              "  </thead>\n",
              "  <tbody>\n",
              "    <tr>\n",
              "      <th>0</th>\n",
              "      <td>-1.334287</td>\n",
              "      <td>-8.636103</td>\n",
              "    </tr>\n",
              "    <tr>\n",
              "      <th>1</th>\n",
              "      <td>-0.190812</td>\n",
              "      <td>-9.828913</td>\n",
              "    </tr>\n",
              "    <tr>\n",
              "      <th>2</th>\n",
              "      <td>-0.914283</td>\n",
              "      <td>-9.194076</td>\n",
              "    </tr>\n",
              "    <tr>\n",
              "      <th>3</th>\n",
              "      <td>-1.123634</td>\n",
              "      <td>3.766166</td>\n",
              "    </tr>\n",
              "    <tr>\n",
              "      <th>4</th>\n",
              "      <td>-2.040565</td>\n",
              "      <td>3.205089</td>\n",
              "    </tr>\n",
              "  </tbody>\n",
              "</table>\n",
              "</div>\n",
              "      <button class=\"colab-df-convert\" onclick=\"convertToInteractive('df-b17eecbc-5ad6-40ec-8459-1e5fcd53a5d3')\"\n",
              "              title=\"Convert this dataframe to an interactive table.\"\n",
              "              style=\"display:none;\">\n",
              "        \n",
              "  <svg xmlns=\"http://www.w3.org/2000/svg\" height=\"24px\"viewBox=\"0 0 24 24\"\n",
              "       width=\"24px\">\n",
              "    <path d=\"M0 0h24v24H0V0z\" fill=\"none\"/>\n",
              "    <path d=\"M18.56 5.44l.94 2.06.94-2.06 2.06-.94-2.06-.94-.94-2.06-.94 2.06-2.06.94zm-11 1L8.5 8.5l.94-2.06 2.06-.94-2.06-.94L8.5 2.5l-.94 2.06-2.06.94zm10 10l.94 2.06.94-2.06 2.06-.94-2.06-.94-.94-2.06-.94 2.06-2.06.94z\"/><path d=\"M17.41 7.96l-1.37-1.37c-.4-.4-.92-.59-1.43-.59-.52 0-1.04.2-1.43.59L10.3 9.45l-7.72 7.72c-.78.78-.78 2.05 0 2.83L4 21.41c.39.39.9.59 1.41.59.51 0 1.02-.2 1.41-.59l7.78-7.78 2.81-2.81c.8-.78.8-2.07 0-2.86zM5.41 20L4 18.59l7.72-7.72 1.47 1.35L5.41 20z\"/>\n",
              "  </svg>\n",
              "      </button>\n",
              "      \n",
              "  <style>\n",
              "    .colab-df-container {\n",
              "      display:flex;\n",
              "      flex-wrap:wrap;\n",
              "      gap: 12px;\n",
              "    }\n",
              "\n",
              "    .colab-df-convert {\n",
              "      background-color: #E8F0FE;\n",
              "      border: none;\n",
              "      border-radius: 50%;\n",
              "      cursor: pointer;\n",
              "      display: none;\n",
              "      fill: #1967D2;\n",
              "      height: 32px;\n",
              "      padding: 0 0 0 0;\n",
              "      width: 32px;\n",
              "    }\n",
              "\n",
              "    .colab-df-convert:hover {\n",
              "      background-color: #E2EBFA;\n",
              "      box-shadow: 0px 1px 2px rgba(60, 64, 67, 0.3), 0px 1px 3px 1px rgba(60, 64, 67, 0.15);\n",
              "      fill: #174EA6;\n",
              "    }\n",
              "\n",
              "    [theme=dark] .colab-df-convert {\n",
              "      background-color: #3B4455;\n",
              "      fill: #D2E3FC;\n",
              "    }\n",
              "\n",
              "    [theme=dark] .colab-df-convert:hover {\n",
              "      background-color: #434B5C;\n",
              "      box-shadow: 0px 1px 3px 1px rgba(0, 0, 0, 0.15);\n",
              "      filter: drop-shadow(0px 1px 2px rgba(0, 0, 0, 0.3));\n",
              "      fill: #FFFFFF;\n",
              "    }\n",
              "  </style>\n",
              "\n",
              "      <script>\n",
              "        const buttonEl =\n",
              "          document.querySelector('#df-b17eecbc-5ad6-40ec-8459-1e5fcd53a5d3 button.colab-df-convert');\n",
              "        buttonEl.style.display =\n",
              "          google.colab.kernel.accessAllowed ? 'block' : 'none';\n",
              "\n",
              "        async function convertToInteractive(key) {\n",
              "          const element = document.querySelector('#df-b17eecbc-5ad6-40ec-8459-1e5fcd53a5d3');\n",
              "          const dataTable =\n",
              "            await google.colab.kernel.invokeFunction('convertToInteractive',\n",
              "                                                     [key], {});\n",
              "          if (!dataTable) return;\n",
              "\n",
              "          const docLinkHtml = 'Like what you see? Visit the ' +\n",
              "            '<a target=\"_blank\" href=https://colab.research.google.com/notebooks/data_table.ipynb>data table notebook</a>'\n",
              "            + ' to learn more about interactive tables.';\n",
              "          element.innerHTML = '';\n",
              "          dataTable['output_type'] = 'display_data';\n",
              "          await google.colab.output.renderOutput(dataTable, element);\n",
              "          const docLink = document.createElement('div');\n",
              "          docLink.innerHTML = docLinkHtml;\n",
              "          element.appendChild(docLink);\n",
              "        }\n",
              "      </script>\n",
              "    </div>\n",
              "  </div>\n",
              "  "
            ]
          },
          "metadata": {},
          "execution_count": 13
        }
      ],
      "source": [
        "import pandas as pd\n",
        "# data visualzation\n",
        "import matplotlib.pyplot as plt\n",
        "import seaborn as sns\n",
        "# outlier/anomaly detection\n",
        "from sklearn.neighbors import LocalOutlierFactor\n",
        "\n",
        "df = pd.read_csv(\"anomaly_test_data.csv\")\n",
        "df.head()"
      ]
    },
    {
      "cell_type": "code",
      "source": [
        "x = df.X\n",
        "y = df.Y\n",
        "plt.scatter(x, y)\n",
        "plt.show()"
      ],
      "metadata": {
        "id": "TFkHVa3M9f_d"
      },
      "execution_count": null,
      "outputs": []
    },
    {
      "cell_type": "markdown",
      "source": [
        "There are 2 main clusters in the top left and bottom right. Based on assumption that anomalies are “far away” from normal points, whereas normal points are “close” to each other we can say that there are a few outliers in the top right and on the bottom left."
      ],
      "metadata": {
        "id": "ro6IJNvm_5pb"
      }
    },
    {
      "cell_type": "code",
      "source": [
        "# model specification\n",
        "model1 = LocalOutlierFactor(n_neighbors=20)\n",
        "# model fitting\n",
        "y_pred = model1.fit_predict(df)\n",
        "# filter outlier index\n",
        "outlier_index = (y_pred == -1) # negative values are outliers and positives inliers\n",
        "# filter outlier values\n",
        "outlier_values = df.iloc[outlier_index]\n",
        "# plot data\n",
        "plt.scatter(df[\"X\"], df[\"Y\"], color = \"b\", s = 65)\n",
        "# plot outlier values\n",
        "plt.scatter(outlier_values[\"X\"], outlier_values[\"Y\"], color = \"r\")\n",
        "plt.title(\"Scatter Plot with nearest neighbors = 20\")\n",
        "plt.show()"
      ],
      "metadata": {
        "colab": {
          "base_uri": "https://localhost:8080/",
          "height": 281
        },
        "id": "mW0iVq0t_4Y6",
        "outputId": "42bc95d3-f81d-4e09-d0a5-e4fee63a3b28"
      },
      "execution_count": null,
      "outputs": [
        {
          "output_type": "display_data",
          "data": {
            "text/plain": [
              "<Figure size 432x288 with 1 Axes>"
            ],
            "image/png": "[encoded data removed]"
          },
          "metadata": {
            "needs_background": "light"
          }
        }
      ]
    },
    {
      "cell_type": "code",
      "source": [
        "# model specification\n",
        "model1 = LocalOutlierFactor(n_neighbors=2)\n",
        "# model fitting\n",
        "y_pred = model1.fit_predict(df)\n",
        "# filter outlier index\n",
        "outlier_index = (y_pred == -1) # negative values are outliers and positives inliers\n",
        "# filter outlier values\n",
        "outlier_values = df.iloc[outlier_index]\n",
        "# plot data\n",
        "plt.scatter(df[\"X\"], df[\"Y\"], color = \"b\", s = 65)\n",
        "# plot outlier values\n",
        "plt.scatter(outlier_values[\"X\"], outlier_values[\"Y\"], color = \"r\")\n",
        "plt.title(\"Scatter Plot with nearest neighbors = 2\")\n",
        "plt.show()"
      ],
      "metadata": {
        "colab": {
          "base_uri": "https://localhost:8080/",
          "height": 281
        },
        "id": "Tg9V3Sk-C0kE",
        "outputId": "6ed1c55f-2cab-41c0-c83a-fbcce57e0d1b"
      },
      "execution_count": null,
      "outputs": [
        {
          "output_type": "display_data",
          "data": {
            "text/plain": [
              "<Figure size 432x288 with 1 Axes>"
            ],
            "image/png": "[encoded data removed]"
          },
          "metadata": {
            "needs_background": "light"
          }
        }
      ]
    },
    {
      "cell_type": "markdown",
      "source": [
        "We can clearly see that the number of outliers increase draastically when nearest neighbours = 2. They can also be seen inside the 2 main clusters.\n",
        "That is the bigggest difference.\n",
        "Distance based approach is Sensitive to variations in density."
      ],
      "metadata": {
        "id": "ubi-Ujj2GIc1"
      }
    }
  ],
  "metadata": {
    "colab": {
      "provenance": []
    },
    "kernelspec": {
      "display_name": "Python 3 (ipykernel)",
      "language": "python",
      "name": "python3"
    },
    "language_info": {
      "codemirror_mode": {
        "name": "ipython",
        "version": 3
      },
      "file_extension": ".py",
      "mimetype": "text/x-python",
      "name": "python",
      "nbconvert_exporter": "python",
      "pygments_lexer": "ipython3",
      "version": "3.8.12"
    }
  },
  "nbformat": 4,
  "nbformat_minor": 0
}